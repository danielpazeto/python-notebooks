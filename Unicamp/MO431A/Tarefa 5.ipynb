{
 "cells": [
  {
   "cell_type": "code",
   "execution_count": 2,
   "metadata": {},
   "outputs": [],
   "source": [
    "import numpy as np\n",
    "import matplotlib.pyplot as plt\n",
    "from sklearn.svm import SVR\n",
    "from sklearn.metrics import mean_squared_error\n",
    "from sklearn.model_selection import RandomizedSearchCV, GridSearchCV"
   ]
  },
  {
   "cell_type": "markdown",
   "metadata": {},
   "source": [
    "# Lendo arquivos"
   ]
  },
  {
   "cell_type": "code",
   "execution_count": 3,
   "metadata": {},
   "outputs": [],
   "source": [
    "x_train = np.load('Xtreino5.npy')\n",
    "y_train = np.load('ytreino5.npy')\n",
    "\n",
    "x_test = np.load('Xteste5.npy')\n",
    "y_test = np.load('yteste5.npy')\n",
    "\n",
    "\n",
    "#função para reportar os resultados das combinaçẽos de parametros\n",
    "def report(results, n_top=3):\n",
    "    for i in range(1, n_top + 1):\n",
    "        candidates = np.flatnonzero(results['rank_test_score'] == i)\n",
    "        for candidate in candidates:\n",
    "            print(\"Model with rank: {0}\".format(i))\n",
    "            print(\"Mean validation score: {0:.3f} (std: {1:.3f})\".format(\n",
    "                  results['mean_test_score'][candidate],\n",
    "                  results['std_test_score'][candidate]))\n",
    "            print(\"Parameters: {0}\".format(results['params'][candidate]))\n",
    "            print(\"\")"
   ]
  },
  {
   "cell_type": "markdown",
   "metadata": {},
   "source": [
    "# 0.1 SVM Regressor\n",
    "# 0.2 Medida de erro"
   ]
  },
  {
   "cell_type": "code",
   "execution_count": 12,
   "metadata": {},
   "outputs": [
    {
     "name": "stdout",
     "output_type": "stream",
     "text": [
      "Best Score:  0.7101346849881802  with params:  [0.000244140625, 1024, 0.05]  and MSE:  19.45487953760004\n"
     ]
    }
   ],
   "source": [
    "list_exp_C = range(-5, 15, 5)\n",
    "list_exp_gamma = range(-15, 3, 3)\n",
    "list_epsilon = np.arange(0.05, 1, 0.5)\n",
    "\n",
    "\n",
    "#Lista de parametros para utilizar nos demais\n",
    "C_list = []\n",
    "gamma_list = []\n",
    "\n",
    "best_params = []\n",
    "best_score = 0\n",
    "mse = 0\n",
    "for exp_gamma in list_exp_gamma:\n",
    "    gamma = 2**exp_gamma\n",
    "    gamma_list.append(gamma)\n",
    "    for exp_C in list_exp_C:\n",
    "        C = 2**exp_C\n",
    "        C_list.append(C)\n",
    "        for epilson in list_epsilon:\n",
    "            clf = SVR(gamma=gamma, C=C, epsilon=epilson)\n",
    "            clf.fit(x_train, y_train)  \n",
    "            score = clf.score(x_test,y_test)        \n",
    "            if score > best_score:\n",
    "                best_score = score\n",
    "                best_params = [gamma, C, epilson]\n",
    "                mse = mean_squared_error(clf.predict(x_test), y_test)\n",
    "print(\"Best Score: \",best_score ,\" with params: \", best_params,\" and MSE: \",mse)\n",
    "\n",
    "C_list = np.unique(C_list)\n",
    "gamma_list = np.unique(gamma_list)\n",
    "list_epsilon = np.unique(list_epsilon)"
   ]
  },
  {
   "cell_type": "markdown",
   "metadata": {},
   "source": [
    "# 1 Random search"
   ]
  },
  {
   "cell_type": "code",
   "execution_count": 64,
   "metadata": {},
   "outputs": [
    {
     "name": "stdout",
     "output_type": "stream",
     "text": [
      "Model with rank: 1\n",
      "Mean validation score: 0.780 (std: 0.045)\n",
      "Parameters: {'gamma': 3.0517578125e-05, 'epsilon': 0.5, 'C': 32768}\n",
      "\n",
      "Model with rank: 2\n",
      "Mean validation score: 0.725 (std: 0.042)\n",
      "Parameters: {'gamma': 3.0517578125e-05, 'epsilon': 0.5, 'C': 1024}\n",
      "\n",
      "Model with rank: 3\n",
      "Mean validation score: 0.723 (std: 0.040)\n",
      "Parameters: {'gamma': 3.0517578125e-05, 'epsilon': 1.0, 'C': 1024}\n",
      "\n"
     ]
    }
   ],
   "source": [
    "param_dist = {\"C\": [2**-5, 2**0, 2**5, 2**10, 2**15],\n",
    "              \"gamma\": [2**-15, 2**-10, 2**-5, 2**0, 2**5],\n",
    "              \"epsilon\": [0.05, 0.1, 0.5, 0.8, 1.0]}\n",
    "\n",
    "clf = SVR()\n",
    "\n",
    "random_search = RandomizedSearchCV(clf, param_distributions=param_dist, cv=4)\n",
    "\n",
    "random_search.fit(x_train, y_train)\n",
    "\n",
    "report(random_search.cv_results_)"
   ]
  },
  {
   "cell_type": "markdown",
   "metadata": {},
   "source": [
    "# 2 Grid seach"
   ]
  },
  {
   "cell_type": "code",
   "execution_count": 63,
   "metadata": {},
   "outputs": [
    {
     "name": "stderr",
     "output_type": "stream",
     "text": [
      "/home/pazeto/anaconda3/envs/MO431A/lib/python3.7/site-packages/sklearn/model_selection/_search.py:841: DeprecationWarning: The default of the `iid` parameter will change from True to False in version 0.22 and will be removed in 0.24. This will change numeric results when test-set sizes are unequal.\n",
      "  DeprecationWarning)\n"
     ]
    },
    {
     "name": "stdout",
     "output_type": "stream",
     "text": [
      "Model with rank: 1\n",
      "Mean validation score: 0.746 (std: 0.040)\n",
      "Parameters: {'C': 32768, 'epsilon': 1.0, 'gamma': 3.0517578125e-05}\n",
      "\n",
      "Model with rank: 2\n",
      "Mean validation score: 0.744 (std: 0.039)\n",
      "Parameters: {'C': 32768, 'epsilon': 0.5, 'gamma': 3.0517578125e-05}\n",
      "\n",
      "Model with rank: 3\n",
      "Mean validation score: 0.744 (std: 0.034)\n",
      "Parameters: {'C': 32768, 'epsilon': 0.1, 'gamma': 3.0517578125e-05}\n",
      "\n"
     ]
    }
   ],
   "source": [
    "grid_search = GridSearchCV(clf, param_grid=param_dist, cv=5)\n",
    "\n",
    "grid_search.fit(x_train, y_train)\n",
    "\n",
    "report(grid_search.cv_results_)"
   ]
  },
  {
   "cell_type": "markdown",
   "metadata": {
    "scrolled": true
   },
   "source": [
    "# 3 Otimização bayesiana"
   ]
  },
  {
   "cell_type": "code",
   "execution_count": 4,
   "metadata": {},
   "outputs": [
    {
     "name": "stdout",
     "output_type": "stream",
     "text": [
      "100%|██████████| 125/125 [00:50<00:00,  2.48it/s, best loss: -0.8252058541104953]\n",
      "Melhores paramtros:  {'C': 18254.13344755772, 'epsilon': 0.15646708299651826, 'gamma': 3.194344320388373e-05}\n",
      "Score:  0.8252058541104953\n"
     ]
    }
   ],
   "source": [
    "# !pip install hyperopt\n",
    "from hyperopt import hp, tpe, fmin, space_eval\n",
    "\n",
    "def my_svr_fun(params):\n",
    "    C, gamma, epsilon = params['C'], params['gamma'], params['epsilon']\n",
    "    clf = SVR(gamma=gamma, C=C, epsilon=epsilon)\n",
    "    clf.fit(x_train, y_train)  \n",
    "    score = clf.score(x_test, y_test)  \n",
    "    return -score\n",
    "\n",
    "param_hyperopt= {\n",
    "    'C': 2 ** hp.uniform('C', -5, 15),\n",
    "    'gamma': 2 ** hp.uniform('gamma', -15, 3),\n",
    "    'epsilon': hp.uniform('epsilon', 0.05, 1),\n",
    "}\n",
    "\n",
    "best_params = fmin(fn = my_svr_fun,\n",
    "            space = param_hyperopt, algo=tpe.suggest, \n",
    "            max_evals = 125)\n",
    "\n",
    "print(\"Melhores paramtros: \", space_eval(param_hyperopt, best_params))\n",
    "print(\"Score: \", my_svr_fun(space_eval(param_hyperopt, best_params))*-1)"
   ]
  },
  {
   "cell_type": "markdown",
   "metadata": {},
   "source": [
    "# 4 PSO"
   ]
  },
  {
   "cell_type": "code",
   "execution_count": 160,
   "metadata": {},
   "outputs": [
    {
     "name": "stdout",
     "output_type": "stream",
     "text": [
      "Stopping search: maximum iterations reached --> 11\n",
      "Parametros:  [1.86712162e+04 3.05175781e-05 5.29600172e-02]\n",
      "Score: 0.8296045658080052\n"
     ]
    }
   ],
   "source": [
    "from pyswarm import pso\n",
    "\n",
    "#primeiro elemento é o mais baixo e mais alte de C, segundo de gamma e terceiro de epilson\n",
    "lb = [2**-5, 2**-15, 0.05]\n",
    "ub = [2**15, 2**3, 1.0]\n",
    "\n",
    "#dado que o pso vai esperar o menor valor e \n",
    "# queremos o melhor score devemos negativar o score, o mais baixo terá melhores params\n",
    "def my_svr_fun(params):\n",
    "#     print(params)\n",
    "    C, gamma, epilson = params\n",
    "    clf = SVR(gamma=gamma, C=C, epsilon=epilson)\n",
    "    clf.fit(x_train, y_train)  \n",
    "    score = clf.score(x_test,y_test)  \n",
    "    return -score\n",
    "\n",
    "best_params, best_score = pso(my_svr_fun, lb, ub, swarmsize=11, maxiter=11)\n",
    "print(\"Parametros: \",best_params)\n",
    "print(\"Score:\", best_score*-1)"
   ]
  },
  {
   "cell_type": "markdown",
   "metadata": {},
   "source": [
    "# 5 Simulated annealing"
   ]
  },
  {
   "cell_type": "code",
   "execution_count": null,
   "metadata": {},
   "outputs": [],
   "source": [
    "from simanneal import Annealer\n",
    "import random\n",
    "\n",
    "class SearchBestParamsSVR(Annealer):\n",
    "    \n",
    "    def move(self):\n",
    "        \n",
    "        \"\"\"permuta a lista de parametros possíveis\"\"\"\n",
    "        \n",
    "        random.shuffle(self.state['C'])\n",
    "        random.shuffle(self.state['gamma'])\n",
    "        random.shuffle(self.state['epsilon'])\n",
    "        \n",
    "    def energy(self):\n",
    "        \"\"\"Calcula o melhor score\"\"\"\n",
    "        \n",
    "        C, gamma, epilson = self.state['C'][0], self.state['gamma'][0], self.state['epsilon'][0]\n",
    "        clf = SVR(gamma=gamma, C=C, epsilon=epilson)\n",
    "        clf.fit(x_train, y_train)  \n",
    "        score = clf.score(x_test, y_test) \n",
    "        \n",
    "        return -score\n",
    "    \n",
    "    \n",
    "param_dist = {\"C\": [2**-5, 2**0, 2**5, 2**10, 2**15],\n",
    "              \"gamma\": [2**-15, 2**-10, 2**-5, 2**0, 2**5],\n",
    "              \"epsilon\": [0.05, 0.1, 0.5, 0.8, 1.0]}\n",
    "\n",
    "tsp = SearchBestParamsSVR(param_dist)\n",
    "\n",
    "params, score = tsp.anneal()"
   ]
  },
  {
   "cell_type": "code",
   "execution_count": 119,
   "metadata": {},
   "outputs": [
    {
     "name": "stdout",
     "output_type": "stream",
     "text": [
      "Pametros C gamma e epilson: 32768 3.0517578125e-05 0.05\n",
      "Score: 0.8220660478366459\n"
     ]
    }
   ],
   "source": [
    "print(\"Parametros C gamma e epilson:\",params['C'][0], params['gamma'][0], params['epsilon'][0],)\n",
    "print(\"Score:\", score*-1)"
   ]
  },
  {
   "cell_type": "markdown",
   "metadata": {},
   "source": [
    "# 6 CMA-ES"
   ]
  },
  {
   "cell_type": "code",
   "execution_count": 73,
   "metadata": {},
   "outputs": [
    {
     "name": "stdout",
     "output_type": "stream",
     "text": [
      "(3_w,7)-aCMA-ES (mu_w=2.3,w_1=58%) in dimension 3 (seed=769965, Wed May  1 11:49:26 2019)\n",
      "Iterat #Fevals   function value  axis ratio  sigma  min&max std  t[m:s]\n",
      "    1      7 -1.838206063591308e-04 1.0e+00 2.08e+00  2e+00  2e+00 0:00.1\n",
      "    2     14 1.480056132296959e-04 1.4e+00 1.93e+00  1e+00  2e+00 0:00.2\n",
      "    3     21 -9.133457200733330e-03 1.8e+00 1.83e+00  1e+00  2e+00 0:00.3\n",
      "   22    154 -6.326321821002134e-01 1.2e+01 1.54e-01  1e-02  1e-01 0:03.5\n",
      "   34    238 -6.475068819370783e-01 4.6e+01 7.24e-02  1e-03  6e-02 0:07.6\n",
      "   46    322 -7.111023370763685e-01 3.3e+02 1.39e-01  1e-03  2e-01 0:13.1\n",
      "   53    371 -7.681652760797661e-01 9.7e+02 7.36e-01  4e-03  2e+00 0:19.7\n",
      "   56    392 -7.774315533913859e-01 1.1e+03 9.40e-01  3e-03  2e+00 0:27.1\n",
      "   60    420 -7.824298371973549e-01 1.0e+03 8.63e-01  2e-03  1e+00 0:36.7\n",
      "   64    448 -7.975142264359517e-01 1.2e+03 6.91e-01  1e-03  1e+00 0:48.6\n",
      "   67    469 -7.968387811299247e-01 1.3e+03 8.05e-01  9e-04  2e+00 1:01.2\n",
      "   70    490 -8.010360811367336e-01 1.8e+03 7.51e-01  7e-04  1e+00 1:13.6\n",
      "   74    518 -7.956126969487143e-01 1.6e+03 9.39e-01  1e-03  1e+00 1:29.4\n",
      "   78    546 -8.042409170371525e-01 1.6e+03 1.31e+00  2e-03  2e+00 1:46.8\n",
      "   81    567 -7.969227474040904e-01 1.7e+03 1.28e+00  1e-03  1e+00 2:04.8\n",
      "   84    588 -8.013909088537767e-01 2.0e+03 1.39e+00  1e-03  2e+00 2:25.1\n",
      "   88    616 -8.018597706470010e-01 1.5e+03 1.52e+00  1e-03  1e+00 2:43.8\n",
      "   91    637 -8.020633682944081e-01 1.4e+03 1.35e+00  1e-03  1e+00 3:02.0\n",
      "   95    665 -8.040883460889812e-01 2.2e+03 1.02e+00  8e-04  1e+00 3:21.1\n",
      "   99    693 -8.033759562601024e-01 2.4e+03 1.37e+00  9e-04  1e+00 3:42.7\n",
      "  103    721 -7.958940734950708e-01 2.5e+03 1.89e+00  9e-04  2e+00 4:04.6\n",
      "  107    749 -8.019457140665107e-01 2.3e+03 2.52e+00  1e-03  2e+00 4:28.6\n",
      "  111    777 -8.040302760700041e-01 4.9e+03 1.74e+00  4e-04  2e+00 4:51.9\n",
      "  115    805 -8.059629455830380e-01 7.8e+03 1.48e+00  2e-04  2e+00 5:21.9\n",
      "  118    826 -8.080808563641788e-01 1.5e+04 2.09e+00  3e-04  3e+00 5:47.7\n",
      "NOTE (module=cma, iteration=118):  \n",
      "condition in coordinate system exceeded 1.0e+08, rescaled to 1.0e+00, \n",
      "condition changed from 2.3e+08 to 2.0e+02\n",
      "  121    847 -8.108796164616130e-01 2.0e+01 3.68e+00  5e-04  8e+00 6:21.2\n",
      "  124    868 -8.111842562603284e-01 2.0e+01 4.29e+00  4e-04  9e+00 6:53.7\n",
      "  127    889 -8.172137053919485e-01 1.9e+01 5.87e+00  5e-04  1e+01 7:32.3\n",
      "  131    917 -8.198406051973042e-01 1.7e+01 6.69e+00  5e-04  1e+01 8:04.2\n",
      "  135    945 -8.199013552515173e-01 1.0e+01 5.21e+00  3e-04  6e+00 8:37.0\n",
      "  140    980 -8.212066670292000e-01 5.6e+00 3.09e+00  1e-04  2e+00 9:12.0\n",
      "  145   1015 -8.214700315414495e-01 8.4e+00 2.30e+00  7e-05  2e+00 9:47.4\n",
      "  150   1050 -8.219235542799294e-01 8.1e+00 2.18e+00  6e-05  1e+00 10:25.0\n",
      "  155   1085 -8.223949722234273e-01 6.6e+00 2.97e+00  9e-05  2e+00 11:01.8\n",
      "  160   1120 -8.245902702366424e-01 5.9e+00 6.72e+00  2e-04  3e+00 11:36.1\n",
      "  165   1155 -8.248291196696291e-01 4.7e+00 5.72e+00  9e-05  2e+00 12:16.1\n",
      "  170   1190 -8.254630540093095e-01 4.2e+00 3.15e+00  5e-05  6e-01 12:55.2\n",
      "  175   1225 -8.253004342232417e-01 2.9e+00 7.02e+00  9e-05  1e+00 13:32.5\n",
      "  181   1267 -8.253912367156909e-01 3.8e+00 4.05e+00  5e-05  5e-01 14:16.1\n",
      "  187   1309 -8.255129504155492e-01 2.7e+00 1.66e+00  2e-05  1e-01 14:59.2\n",
      "  193   1351 -8.255560610459581e-01 2.9e+00 2.04e+00  2e-05  1e-01 15:41.7\n",
      "  199   1393 -8.256055048773534e-01 3.3e+00 1.26e+00  9e-06  7e-02 16:23.8\n",
      "  205   1435 -8.256630715661389e-01 4.1e+00 1.13e+00  8e-06  6e-02 17:07.2\n",
      "  212   1484 -8.255033453088060e-01 3.7e+00 8.42e-01  4e-06  4e-02 17:55.7\n",
      "  218   1526 -8.256422800229051e-01 3.6e+00 7.21e-01  3e-06  3e-02 18:40.6\n",
      "  225   1575 -8.255818957777726e-01 8.1e+00 1.41e+00  9e-06  5e-02 19:31.2\n",
      "  232   1624 -8.256181444059002e-01 1.8e+01 8.10e-01  6e-06  3e-02 20:20.9\n",
      "  239   1673 -8.255379991825643e-01 1.3e+01 5.67e-01  3e-06  2e-02 21:10.9\n",
      "  246   1722 -8.255711375946988e-01 1.6e+01 6.51e-01  3e-06  2e-02 21:59.5\n",
      "  253   1771 -8.255457807758377e-01 2.8e+01 1.34e+00  9e-06  8e-02 22:49.3\n",
      "  261   1827 -8.255739509078353e-01 3.9e+01 2.24e+00  1e-05  1e-01 23:46.2\n",
      "  268   1876 -8.255427143666138e-01 3.6e+01 1.99e+00  7e-06  8e-02 24:37.3\n",
      "  276   1932 -8.255667915947482e-01 1.9e+01 3.85e+00  8e-06  1e-01 25:32.3\n",
      "  284   1988 -8.256045008323433e-01 1.1e+01 3.67e+00  5e-06  7e-02 26:27.8\n",
      "  292   2044 -8.255392362706058e-01 1.5e+01 5.39e+00  9e-06  9e-02 27:24.4\n",
      "  300   2100 -8.255755622937597e-01 2.2e+01 2.88e+00  3e-06  5e-02 28:20.1\n",
      "  308   2156 -8.255706770754763e-01 1.9e+01 1.45e+01  2e-05  3e-01 29:19.4\n",
      "  317   2219 -8.255588497399301e-01 1.9e+01 9.16e+00  8e-06  1e-01 30:23.8\n",
      "  326   2282 -8.256262616792767e-01 2.2e+01 8.08e+00  7e-06  1e-01 31:28.0\n",
      "  335   2345 -8.255137003573031e-01 2.5e+01 8.37e+00  7e-06  1e-01 32:28.4\n",
      "  344   2408 -8.256030511648165e-01 1.7e+01 7.59e+00  4e-06  5e-02 33:32.0\n",
      "  353   2471 -8.256422380610839e-01 1.7e+01 5.94e+00  3e-06  3e-02 34:35.1\n",
      "  361   2527 -8.255766451834115e-01 3.0e+01 3.09e+00  7e-07  2e-02 35:42.6\n",
      "  369   2583 -8.256723139051847e-01 2.6e+01 1.65e+00  2e-07  8e-03 36:54.3\n",
      "  376   2632 -8.256878167837052e-01 2.1e+01 9.25e-01  6e-08  3e-03 37:59.5\n",
      "  383   2681 -8.256717018592110e-01 2.7e+01 9.47e-01  3e-08  4e-03 39:05.7\n",
      "  390   2730 -8.256881774248801e-01 3.5e+01 8.40e-01  1e-08  4e-03 40:16.3\n",
      "  397   2779 -8.256723712017733e-01 7.8e+01 8.26e-01  8e-09  5e-03 41:26.0\n",
      "  405   2835 -8.256882876904283e-01 1.6e+02 6.67e-01  5e-09  5e-03 42:43.7\n",
      "  412   2884 -8.257003125348462e-01 1.2e+02 4.69e-01  2e-09  3e-03 43:56.9\n",
      "  420   2940 -8.256935895871522e-01 1.8e+02 1.44e-01  3e-10  6e-04 45:14.4\n",
      "  427   2989 -8.256931467366395e-01 1.2e+02 9.56e-02  2e-10  2e-04 46:26.5\n",
      "  435   3045 -8.256997727317970e-01 2.8e+02 1.09e-01  2e-10  4e-04 47:46.6\n",
      "  443   3101 -8.256965689722938e-01 3.6e+02 1.17e-01  1e-10  3e-04 49:05.3\n",
      "  451   3157 -8.256995211450879e-01 4.8e+02 7.35e-02  5e-11  2e-04 50:25.4\n",
      "  458   3206 -8.256978729006877e-01 3.1e+02 3.83e-02  2e-11  5e-05 51:41.6\n",
      "  466   3262 -8.256966351184095e-01 2.6e+02 6.48e-02  3e-11  7e-05 53:07.0\n",
      "  473   3311 -8.256993397236930e-01 2.3e+02 7.05e-02  3e-11  6e-05 54:25.5\n",
      "  482   3374 -8.256917416376404e-01 1.1e+02 1.13e-01  7e-11  5e-05 55:50.6\n",
      "  490   3430 -8.256894822402588e-01 9.9e+01 9.33e-02  4e-11  4e-05 57:10.6\n",
      "  498   3486 -8.257054469894023e-01 7.9e+01 1.11e-01  5e-11  3e-05 58:38.8\n",
      "  508   3556 -8.257005453302735e-01 9.8e+01 1.53e-01  5e-11  4e-05 60:00.4\n",
      "  519   3633 -8.256941680231893e-01 2.3e+02 2.29e-01  6e-11  7e-05 61:22.9\n",
      "  530   3710 -8.257020333945037e-01 2.1e+02 1.43e-01  3e-11  3e-05 62:47.5\n",
      "  541   3787 -8.256941719645042e-01 3.0e+02 2.00e-01  3e-11  7e-05 64:13.0\n",
      "  553   3871 -8.257005250102156e-01 3.4e+02 2.49e-01  4e-11  5e-05 65:44.5\n",
      "  565   3955 -8.257050357771927e-01 4.4e+02 1.10e-01  1e-11  2e-05 67:17.8\n",
      "  577   4039 -8.257007381794392e-01 1.4e+03 4.05e-02  4e-12  8e-06 68:49.3\n",
      "  589   4123 -8.256982696352093e-01 1.1e+03 4.68e-02  4e-12  7e-06 70:18.8\n",
      "  601   4207 -8.256983777314512e-01 2.1e+03 6.43e-02  7e-12  1e-05 71:51.3\n",
      "  613   4291 -8.256978744085418e-01 3.4e+03 7.51e-02  8e-12  1e-05 73:23.3\n",
      "  625   4375 -8.256909369531588e-01 4.4e+03 6.49e-02  5e-12  8e-06 74:55.1\n",
      "  638   4466 -8.257026310997099e-01 2.9e+03 1.03e-01  4e-12  7e-06 76:32.5\n",
      "  650   4550 -8.256973709038034e-01 4.3e+03 6.20e-02  2e-12  4e-06 78:01.5\n",
      "termination on tolstagnation=174 (Wed May  1 13:07:30 2019)\n",
      "final/bestever f-value = -8.257023e-01 -8.257230e-01\n",
      "incumbent solution: [19397.06710389928, 3.051757888265911e-05, 0.3603345945951138]\n",
      "std deviation: [0.0005189705279846922, 4.266018454044987e-12, 3.936943727446785e-08]\n",
      "Parametros C gamma e epilson:  [1.94095292e+04 3.05266127e-05 3.60585058e-01]\n",
      "Score:  0.8257229759217513\n"
     ]
    }
   ],
   "source": [
    "# !pip install cma\n",
    "import cma\n",
    "# help(cma.fmin)\n",
    "def my_svr_fun(params):\n",
    "    C, gamma, epilson = params\n",
    "    clf = SVR(gamma=gamma, C=C, epsilon=epilson)\n",
    "    clf.fit(x_train, y_train)  \n",
    "    score = clf.score(x_test,y_test)  \n",
    "    return -score\n",
    "\n",
    "\n",
    "lb = [2**-5, 2**-15, 0.05]\n",
    "ub = [2**15, 2**3, 1]\n",
    "\n",
    "opt = { 'bounds': [lb , ub], 'verb_disp':1000}\n",
    "opt['scaling_of_variables'] = [2**10, 2**1, 0.01]\n",
    "\n",
    "es = cma.fmin(my_svr_fun, [1, 1, 1], 2.5, opt)\n",
    "\n",
    "print(\"Parametros C gamma e epilson: \", es[0])\n",
    "print(\"Score: \", es[1]*-1)"
   ]
  }
 ],
 "metadata": {
  "kernelspec": {
   "display_name": "Python 3",
   "language": "python",
   "name": "python3"
  },
  "language_info": {
   "codemirror_mode": {
    "name": "ipython",
    "version": 3
   },
   "file_extension": ".py",
   "mimetype": "text/x-python",
   "name": "python",
   "nbconvert_exporter": "python",
   "pygments_lexer": "ipython3",
   "version": "3.7.1"
  }
 },
 "nbformat": 4,
 "nbformat_minor": 2
}
