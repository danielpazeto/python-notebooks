{
 "cells": [
  {
   "cell_type": "code",
   "execution_count": 152,
   "metadata": {},
   "outputs": [],
   "source": [
    "import numpy as np\n",
    "import matplotlib.pyplot as plt\n",
    "from sklearn.decomposition import TruncatedSVD"
   ]
  },
  {
   "cell_type": "markdown",
   "metadata": {},
   "source": [
    "# 1 Leia o arquivo X.npy"
   ]
  },
  {
   "cell_type": "code",
   "execution_count": 153,
   "metadata": {},
   "outputs": [],
   "source": [
    "X = np.load('X.npy')"
   ]
  },
  {
   "cell_type": "markdown",
   "metadata": {},
   "source": [
    "# 2 Imprima a imagem da primeira pessoa."
   ]
  },
  {
   "cell_type": "code",
   "execution_count": 154,
   "metadata": {},
   "outputs": [
    {
     "data": {
      "text/plain": [
       "<matplotlib.image.AxesImage at 0x7f5b287ceac8>"
      ]
     },
     "execution_count": 154,
     "metadata": {},
     "output_type": "execute_result"
    },
    {
     "data": {
      "image/png": "[encoded data removed]",
      "text/plain": [
       "<Figure size 432x288 with 1 Axes>"
      ]
     },
     "metadata": {
      "needs_background": "light"
     },
     "output_type": "display_data"
    }
   ],
   "source": [
    "reshaped_image = np.reshape(X[0], (50,37))\n",
    "\n",
    "plt.imshow(reshaped_image, cmap ='gray')"
   ]
  },
  {
   "cell_type": "markdown",
   "metadata": {},
   "source": [
    "# 3 Faça a fatoração svd da matriz X."
   ]
  },
  {
   "cell_type": "code",
   "execution_count": 155,
   "metadata": {},
   "outputs": [
    {
     "name": "stdout",
     "output_type": "stream",
     "text": [
      "(3023, 3023) (1850,) (1850, 1850)\n",
      "(3023, 1850) (1850,) (1850, 1850)\n"
     ]
    }
   ],
   "source": [
    "u1, d1, vt1 = np.linalg.svd(X, full_matrices=True)\n",
    "print(u1.shape, d1.shape, vt1.shape)\n",
    "\n",
    "u2, d2, vt2 = np.linalg.svd(X, full_matrices=False)\n",
    "print(u2.shape, d2.shape, vt2.shape)"
   ]
  },
  {
   "cell_type": "code",
   "execution_count": 156,
   "metadata": {},
   "outputs": [
    {
     "name": "stdout",
     "output_type": "stream",
     "text": [
      "Usando full_matrice True\n",
      "Matrix X: mxn (3023, 1850)\n",
      "Matrix U: mxm (3023, 3023)\n",
      "Matrix D: mxn (1850, 1850)\n",
      "Matrix Vt: nxn (1850, 1850)\n",
      "\n",
      "Usando full_matrices False\n",
      "Matrix X: mxn (3023, 1850)\n",
      "Matrix U: mxm (3023, 1850)\n",
      "Matrix D: nxn (1850, 1850)\n",
      "Matrix Vt: nxn (1850, 1850)\n"
     ]
    }
   ],
   "source": [
    "print(\"Usando full_matrice True\")\n",
    "print(\"Matrix X: mxn\", X.shape)\n",
    "print(\"Matrix U: mxm\", u1.shape)\n",
    "print(\"Matrix D: mxn\", np.diag(d1).shape) #dado que D é um array de 1 dim com valores de uma matriz diagonal\n",
    "print(\"Matrix Vt: nxn\", vt1.shape)\n",
    "\n",
    "print(\"\\nUsando full_matrices False\")\n",
    "print(\"Matrix X: mxn\", X.shape)\n",
    "print(\"Matrix U: mxm\", u2.shape)\n",
    "print(\"Matrix D: nxn\", np.diag(d2).shape) #dado que D é um array de 1 dim com valores de uma matriz diagonal\n",
    "print(\"Matrix Vt: nxn\", vt2.shape)"
   ]
  },
  {
   "cell_type": "markdown",
   "metadata": {},
   "source": [
    "# 4 Verifique a 2a formulação"
   ]
  },
  {
   "cell_type": "code",
   "execution_count": 157,
   "metadata": {},
   "outputs": [
    {
     "name": "stdout",
     "output_type": "stream",
     "text": [
      "Média dos valores de X:  129.54884\n",
      "Maior erro:  0.00039672852\n"
     ]
    }
   ],
   "source": [
    "errors = X - u2 @ np.diag(d2) @ vt2 #Multiplicando as matrizes\n",
    "\n",
    "original_mean_X = X.mean()\n",
    "print(\"Média dos valores de X: \",original_mean_X) \n",
    "max_error = np.absolute(errors).max()\n",
    "print(\"Maior erro: \", max_error)"
   ]
  },
  {
   "cell_type": "markdown",
   "metadata": {},
   "source": [
    "# 5 Compute a matriz reduzida e a matriz reconstruída\n",
    "### 5.1 matriz reduzida"
   ]
  },
  {
   "cell_type": "code",
   "execution_count": 158,
   "metadata": {},
   "outputs": [
    {
     "name": "stdout",
     "output_type": "stream",
     "text": [
      "Matriz reduzida:  (3023, 150)\n"
     ]
    }
   ],
   "source": [
    "k = 150\n",
    "# pega somente as primeiras k colunas\n",
    "uk = u1[:,0:150] # -Uk\n",
    "dk = np.diag(d1)[0:150,0:150] # -Dk # 150 linhas x 150 colunas\n",
    "\n",
    "reduced_X = ((uk)) @ ((dk)) #ME CONFUNDI COM OS NEGATIVOS, REMOVI TODOS E aparentemente o resultado é o mesmo\n",
    "print(\"Matriz reduzida: \", reduced_X.shape)"
   ]
  },
  {
   "cell_type": "markdown",
   "metadata": {},
   "source": [
    "### 5.2 matriz reconstruída"
   ]
  },
  {
   "cell_type": "code",
   "execution_count": 159,
   "metadata": {},
   "outputs": [
    {
     "name": "stdout",
     "output_type": "stream",
     "text": [
      "Matriz reconstruída:  (3023, 1850)\n"
     ]
    }
   ],
   "source": [
    "vtk = vt1[0:150,:]\n",
    "rebuilded_X = uk @ dk @ (vtk)\n",
    "print(\"Matriz reconstruída: \", rebuilded_X.shape)"
   ]
  },
  {
   "cell_type": "markdown",
   "metadata": {},
   "source": [
    "# 6 Imprima a imagem reconstruída da 1a pessoa redução"
   ]
  },
  {
   "cell_type": "code",
   "execution_count": 160,
   "metadata": {},
   "outputs": [
    {
     "data": {
      "text/plain": [
       "<matplotlib.image.AxesImage at 0x7f5b28751b00>"
      ]
     },
     "execution_count": 160,
     "metadata": {},
     "output_type": "execute_result"
    },
    {
     "data": {
      "image/png": "[encoded data removed]",
      "text/plain": [
       "<Figure size 576x576 with 2 Axes>"
      ]
     },
     "metadata": {
      "needs_background": "light"
     },
     "output_type": "display_data"
    }
   ],
   "source": [
    "rebuilded_reshaped_image = np.reshape(rebuilded_X[0], (50,37))\n",
    "\n",
    "# Para colocar as imagens lado a lado\n",
    "fig=plt.figure(figsize=(8, 8))\n",
    "fig.add_subplot(1, 2, 1)\n",
    "plt.imshow(rebuilded_reshaped_image, cmap ='gray')\n",
    "fig.add_subplot(1, 2, 2)\n",
    "plt.imshow(reshaped_image, cmap ='gray')"
   ]
  },
  {
   "cell_type": "markdown",
   "metadata": {},
   "source": [
    "# 7 Use o TruncatedSVD do scikit-learn"
   ]
  },
  {
   "cell_type": "code",
   "execution_count": 161,
   "metadata": {},
   "outputs": [
    {
     "data": {
      "text/plain": [
       "<matplotlib.image.AxesImage at 0x7f5b28b69e10>"
      ]
     },
     "execution_count": 161,
     "metadata": {},
     "output_type": "execute_result"
    },
    {
     "data": {
      "image/png": "[encoded data removed]",
      "text/plain": [
       "<Figure size 432x288 with 1 Axes>"
      ]
     },
     "metadata": {
      "needs_background": "light"
     },
     "output_type": "display_data"
    }
   ],
   "source": [
    "svd = TruncatedSVD(n_components=k)\n",
    "\n",
    "reduced_X_sklearn = svd.fit_transform(X) # reduz\n",
    "\n",
    "original_X_sklearn = svd.inverse_transform(reduced_X_sklearn) # reconstrói\n",
    "\n",
    "rebuilded_reshaped_image_sklearn = np.reshape(rebuilded_X[0], (50,37)) # reshape\n",
    "\n",
    "plt.imshow(rebuilded_reshaped_image_sklearn, cmap ='gray')"
   ]
  },
  {
   "cell_type": "markdown",
   "metadata": {},
   "source": [
    "# 8 Imprima as imagens das eigenfaces"
   ]
  },
  {
   "cell_type": "code",
   "execution_count": 162,
   "metadata": {},
   "outputs": [
    {
     "name": "stdout",
     "output_type": "stream",
     "text": [
      "(150, 1850)\n",
      "[-0.01482109 -0.01568116 -0.01729576 ... -0.02057458 -0.01954547\n",
      " -0.01844866]\n",
      "[ 0.0216102   0.02143647  0.0230226  ... -0.04328211 -0.0405992\n",
      " -0.03755841]\n",
      "[-0.07169737 -0.07415322 -0.06572168 ...  0.01936213  0.03917183\n",
      "  0.04113218]\n",
      "[-0.03826366 -0.03990286 -0.01235724 ... -0.00870327 -0.00207697\n",
      "  0.01216618]\n"
     ]
    }
   ],
   "source": [
    "# É só dar prin??? \n",
    "print(vtk.shape)\n",
    "print(vtk[0]) # vtk venho da sessão 5.2\n",
    "print(vtk[1])\n",
    "print(vtk[49])\n",
    "print(vtk[149])"
   ]
  }
 ],
 "metadata": {
  "kernelspec": {
   "display_name": "Python 3",
   "language": "python",
   "name": "python3"
  },
  "language_info": {
   "codemirror_mode": {
    "name": "ipython",
    "version": 3
   },
   "file_extension": ".py",
   "mimetype": "text/x-python",
   "name": "python",
   "nbconvert_exporter": "python",
   "pygments_lexer": "ipython3",
   "version": "3.7.2"
  }
 },
 "nbformat": 4,
 "nbformat_minor": 2
}
